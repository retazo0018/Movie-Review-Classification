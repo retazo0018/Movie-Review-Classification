{
  "nbformat": 4,
  "nbformat_minor": 0,
  "metadata": {
    "colab": {
      "name": "movie_review_classification.ipynb",
      "provenance": [],
      "collapsed_sections": [],
      "include_colab_link": true
    },
    "kernelspec": {
      "name": "python3",
      "display_name": "Python 3"
    }
  },
  "cells": [
    {
      "cell_type": "markdown",
      "metadata": {
        "id": "view-in-github",
        "colab_type": "text"
      },
      "source": [
        "<a href=\"https://colab.research.google.com/github/retazo0018/Movie-Review-Classification/blob/master/movie_review_classification.ipynb\" target=\"_parent\"><img src=\"https://colab.research.google.com/assets/colab-badge.svg\" alt=\"Open In Colab\"/></a>"
      ]
    },
    {
      "cell_type": "code",
      "metadata": {
        "id": "vXeR_wEvhQsk",
        "colab_type": "code",
        "outputId": "d64cab69-0834-4c2a-cb29-6c047e8dd1a5",
        "colab": {
          "base_uri": "https://localhost:8080/",
          "height": 63
        }
      },
      "source": [
        "import tensorflow as tf\n",
        "from tensorflow import keras\n",
        "import numpy as np"
      ],
      "execution_count": 0,
      "outputs": [
        {
          "output_type": "display_data",
          "data": {
            "text/html": [
              "<p style=\"color: red;\">\n",
              "The default version of TensorFlow in Colab will soon switch to TensorFlow 2.x.<br>\n",
              "We recommend you <a href=\"https://www.tensorflow.org/guide/migrate\" target=\"_blank\">upgrade</a> now \n",
              "or ensure your notebook will continue to use TensorFlow 1.x via the <code>%tensorflow_version 1.x</code> magic:\n",
              "<a href=\"https://colab.research.google.com/notebooks/tensorflow_version.ipynb\" target=\"_blank\">more info</a>.</p>\n"
            ],
            "text/plain": [
              "<IPython.core.display.HTML object>"
            ]
          },
          "metadata": {
            "tags": []
          }
        }
      ]
    },
    {
      "cell_type": "code",
      "metadata": {
        "id": "ty1mMYub7rSY",
        "colab_type": "code",
        "colab": {}
      },
      "source": [
        "data = keras.datasets.imdb"
      ],
      "execution_count": 0,
      "outputs": []
    },
    {
      "cell_type": "code",
      "metadata": {
        "id": "uJkvbu4A7wI5",
        "colab_type": "code",
        "outputId": "fd9e7968-4978-42f3-d18b-203ce2224b4e",
        "colab": {
          "base_uri": "https://localhost:8080/",
          "height": 51
        }
      },
      "source": [
        "(train_data, train_labels), (test_data, test_labels) = data.load_data(num_words=10000)\n",
        "# take only 10000 frequent words"
      ],
      "execution_count": 0,
      "outputs": [
        {
          "output_type": "stream",
          "text": [
            "Downloading data from https://storage.googleapis.com/tensorflow/tf-keras-datasets/imdb.npz\n",
            "17465344/17464789 [==============================] - 0s 0us/step\n"
          ],
          "name": "stdout"
        }
      ]
    },
    {
      "cell_type": "code",
      "metadata": {
        "id": "Ii5RN3I_8Hbw",
        "colab_type": "code",
        "outputId": "5e4f7506-1e9b-448a-c19f-2d970dfa7eb9",
        "colab": {
          "base_uri": "https://localhost:8080/",
          "height": 54
        }
      },
      "source": [
        "print(train_data[0])"
      ],
      "execution_count": 0,
      "outputs": [
        {
          "output_type": "stream",
          "text": [
            "[1, 14, 22, 16, 43, 530, 973, 1622, 1385, 65, 458, 4468, 66, 3941, 4, 173, 36, 256, 5, 25, 100, 43, 838, 112, 50, 670, 2, 9, 35, 480, 284, 5, 150, 4, 172, 112, 167, 2, 336, 385, 39, 4, 172, 4536, 1111, 17, 546, 38, 13, 447, 4, 192, 50, 16, 6, 147, 2025, 19, 14, 22, 4, 1920, 4613, 469, 4, 22, 71, 87, 12, 16, 43, 530, 38, 76, 15, 13, 1247, 4, 22, 17, 515, 17, 12, 16, 626, 18, 2, 5, 62, 386, 12, 8, 316, 8, 106, 5, 4, 2223, 5244, 16, 480, 66, 3785, 33, 4, 130, 12, 16, 38, 619, 5, 25, 124, 51, 36, 135, 48, 25, 1415, 33, 6, 22, 12, 215, 28, 77, 52, 5, 14, 407, 16, 82, 2, 8, 4, 107, 117, 5952, 15, 256, 4, 2, 7, 3766, 5, 723, 36, 71, 43, 530, 476, 26, 400, 317, 46, 7, 4, 2, 1029, 13, 104, 88, 4, 381, 15, 297, 98, 32, 2071, 56, 26, 141, 6, 194, 7486, 18, 4, 226, 22, 21, 134, 476, 26, 480, 5, 144, 30, 5535, 18, 51, 36, 28, 224, 92, 25, 104, 4, 226, 65, 16, 38, 1334, 88, 12, 16, 283, 5, 16, 4472, 113, 103, 32, 15, 16, 5345, 19, 178, 32]\n"
          ],
          "name": "stdout"
        }
      ]
    },
    {
      "cell_type": "code",
      "metadata": {
        "id": "m-hc5Hji7wLf",
        "colab_type": "code",
        "outputId": "05ac881d-c03c-4646-f8f3-d2bec28acbfb",
        "colab": {
          "base_uri": "https://localhost:8080/",
          "height": 51
        }
      },
      "source": [
        "word_index = data.get_word_index()"
      ],
      "execution_count": 0,
      "outputs": [
        {
          "output_type": "stream",
          "text": [
            "Downloading data from https://storage.googleapis.com/tensorflow/tf-keras-datasets/imdb_word_index.json\n",
            "1646592/1641221 [==============================] - 0s 0us/step\n"
          ],
          "name": "stdout"
        }
      ]
    },
    {
      "cell_type": "code",
      "metadata": {
        "id": "-dAFnw7x7wPz",
        "colab_type": "code",
        "outputId": "86db93d8-9342-41b2-b285-64714e700186",
        "colab": {
          "base_uri": "https://localhost:8080/",
          "height": 54
        }
      },
      "source": [
        "word_index = {k:(v+3) for k,v in word_index.items()}\n",
        "word_index[\"<PAD>\"]  = 0 # to make each movie review of a same length\n",
        "word_index[\"<START>\"] = 1 \n",
        "word_index[\"<UNK>\"] = 2 #unknown\n",
        "word_index[\"<UNUSED>\"] = 3\n",
        "\n",
        "reverse_word_index = dict([(value,key) for (key, value) in word_index.items()])\n",
        "\n",
        "def decode_Review(text):\n",
        "  return \" \".join([reverse_word_index.get(i,\"?\")for i in text]) # put ? if the key (number) does not have a value (text) else the value associated with the key\n",
        "\n",
        "print(decode_Review(test_data[4]))\n"
      ],
      "execution_count": 0,
      "outputs": [
        {
          "output_type": "stream",
          "text": [
            "<START> one like much we social while ? haven't away formulaic black ? the cinema and close ? ? and close hand science given it fox which they sense ? to child to was truly over knock ? simon as am ? <UNK> his were arrogant was <UNK> over excellent behind ? <UNK> while that bin and close ? well <UNK> ? ? sam must ? ? ? small and costumes sit the with ? small good mom bat an slowly it coming home and close occasion but sense ? ? ? up effort effort thought watching year they a just <UNK> watching call <UNK> watching move watching\n"
          ],
          "name": "stdout"
        }
      ]
    },
    {
      "cell_type": "code",
      "metadata": {
        "id": "Y70xiQiMAyfq",
        "colab_type": "code",
        "colab": {}
      },
      "source": [
        "# converting all reviews to size 250 characters\n",
        "train_data = keras.preprocessing.sequence.pad_sequences(train_data, value=word_index[\"<PAD>\"], padding=\"post\", maxlen=250)\n",
        "test_data = keras.preprocessing.sequence.pad_sequences(test_data, value=word_index[\"<PAD>\"], padding=\"post\", maxlen=250)"
      ],
      "execution_count": 0,
      "outputs": []
    },
    {
      "cell_type": "code",
      "metadata": {
        "id": "WdO2T563Ayi8",
        "colab_type": "code",
        "outputId": "3114cd1e-4724-42f2-b52c-5f2d5864aec8",
        "colab": {
          "base_uri": "https://localhost:8080/",
          "height": 411
        }
      },
      "source": [
        "model = keras.Sequential()\n",
        "model.add(keras.layers.Embedding(10000,16)) # tries to group words that are similar to each other, eg. great, good ; 16 dimensions \n",
        "model.add(keras.layers.GlobalAveragePooling1D()) # to scale the 16 dimension into lower dimension\n",
        "model.add(keras.layers.Dense(16, activation=\"relu\")) # 16 neurons (arbitrary) \n",
        "model.add(keras.layers.Dense(1, activation=\"sigmoid\")) \n",
        "model.summary()"
      ],
      "execution_count": 0,
      "outputs": [
        {
          "output_type": "stream",
          "text": [
            "WARNING:tensorflow:From /usr/local/lib/python3.6/dist-packages/tensorflow_core/python/keras/initializers.py:119: calling RandomUniform.__init__ (from tensorflow.python.ops.init_ops) with dtype is deprecated and will be removed in a future version.\n",
            "Instructions for updating:\n",
            "Call initializer instance with the dtype argument instead of passing it to the constructor\n",
            "WARNING:tensorflow:From /usr/local/lib/python3.6/dist-packages/tensorflow_core/python/ops/resource_variable_ops.py:1630: calling BaseResourceVariable.__init__ (from tensorflow.python.ops.resource_variable_ops) with constraint is deprecated and will be removed in a future version.\n",
            "Instructions for updating:\n",
            "If using Keras pass *_constraint arguments to layers.\n",
            "Model: \"sequential\"\n",
            "_________________________________________________________________\n",
            "Layer (type)                 Output Shape              Param #   \n",
            "=================================================================\n",
            "embedding (Embedding)        (None, None, 16)          160000    \n",
            "_________________________________________________________________\n",
            "global_average_pooling1d (Gl (None, 16)                0         \n",
            "_________________________________________________________________\n",
            "dense (Dense)                (None, 16)                272       \n",
            "_________________________________________________________________\n",
            "dense_1 (Dense)              (None, 1)                 17        \n",
            "=================================================================\n",
            "Total params: 160,289\n",
            "Trainable params: 160,289\n",
            "Non-trainable params: 0\n",
            "_________________________________________________________________\n"
          ],
          "name": "stdout"
        }
      ]
    },
    {
      "cell_type": "code",
      "metadata": {
        "id": "_3hoVOmjAydt",
        "colab_type": "code",
        "outputId": "45ff8305-7976-42bf-841e-40d33a2b1d04",
        "colab": {
          "base_uri": "https://localhost:8080/",
          "height": 1000
        }
      },
      "source": [
        "model.compile(optimizer=\"adam\", loss=\"binary_crossentropy\", metrics=[\"accuracy\"])\n",
        "x_val = train_data[:10000] # validation data\n",
        "x_train = train_data[10000:]\n",
        "\n",
        "y_val = train_labels[:10000] # validation data\n",
        "y_train = train_labels[10000:]\n",
        "\n",
        "fitmodel = model.fit(x_train, y_train, epochs = 40, batch_size = 512, validation_data=(x_val,y_val), verbose=1) # batch size - > how many reviews are you gonna load at each time\n",
        "\n",
        "results = model.evaluate(test_data, test_labels)\n",
        "\n",
        "print(results)"
      ],
      "execution_count": 0,
      "outputs": [
        {
          "output_type": "stream",
          "text": [
            "WARNING:tensorflow:From /usr/local/lib/python3.6/dist-packages/tensorflow_core/python/ops/nn_impl.py:183: where (from tensorflow.python.ops.array_ops) is deprecated and will be removed in a future version.\n",
            "Instructions for updating:\n",
            "Use tf.where in 2.0, which has the same broadcast rule as np.where\n",
            "Train on 15000 samples, validate on 10000 samples\n",
            "Epoch 1/40\n",
            "15000/15000 [==============================] - 1s 84us/sample - loss: 0.6920 - acc: 0.5211 - val_loss: 0.6905 - val_acc: 0.5576\n",
            "Epoch 2/40\n",
            "15000/15000 [==============================] - 1s 59us/sample - loss: 0.6872 - acc: 0.6421 - val_loss: 0.6838 - val_acc: 0.6634\n",
            "Epoch 3/40\n",
            "15000/15000 [==============================] - 1s 58us/sample - loss: 0.6762 - acc: 0.7103 - val_loss: 0.6696 - val_acc: 0.7337\n",
            "Epoch 4/40\n",
            "15000/15000 [==============================] - 1s 59us/sample - loss: 0.6558 - acc: 0.7393 - val_loss: 0.6457 - val_acc: 0.7656\n",
            "Epoch 5/40\n",
            "15000/15000 [==============================] - 1s 58us/sample - loss: 0.6242 - acc: 0.7818 - val_loss: 0.6121 - val_acc: 0.7841\n",
            "Epoch 6/40\n",
            "15000/15000 [==============================] - 1s 55us/sample - loss: 0.5827 - acc: 0.8098 - val_loss: 0.5715 - val_acc: 0.7959\n",
            "Epoch 7/40\n",
            "15000/15000 [==============================] - 1s 56us/sample - loss: 0.5352 - acc: 0.8254 - val_loss: 0.5263 - val_acc: 0.8194\n",
            "Epoch 8/40\n",
            "15000/15000 [==============================] - 1s 51us/sample - loss: 0.4867 - acc: 0.8446 - val_loss: 0.4840 - val_acc: 0.8310\n",
            "Epoch 9/40\n",
            "15000/15000 [==============================] - 1s 57us/sample - loss: 0.4410 - acc: 0.8594 - val_loss: 0.4456 - val_acc: 0.8424\n",
            "Epoch 10/40\n",
            "15000/15000 [==============================] - 1s 57us/sample - loss: 0.4006 - acc: 0.8719 - val_loss: 0.4139 - val_acc: 0.8490\n",
            "Epoch 11/40\n",
            "15000/15000 [==============================] - 1s 56us/sample - loss: 0.3664 - acc: 0.8821 - val_loss: 0.3876 - val_acc: 0.8580\n",
            "Epoch 12/40\n",
            "15000/15000 [==============================] - 1s 56us/sample - loss: 0.3377 - acc: 0.8893 - val_loss: 0.3678 - val_acc: 0.8621\n",
            "Epoch 13/40\n",
            "15000/15000 [==============================] - 1s 56us/sample - loss: 0.3143 - acc: 0.8959 - val_loss: 0.3502 - val_acc: 0.8682\n",
            "Epoch 14/40\n",
            "15000/15000 [==============================] - 1s 57us/sample - loss: 0.2934 - acc: 0.9005 - val_loss: 0.3375 - val_acc: 0.8721\n",
            "Epoch 15/40\n",
            "15000/15000 [==============================] - 1s 59us/sample - loss: 0.2761 - acc: 0.9057 - val_loss: 0.3268 - val_acc: 0.8743\n",
            "Epoch 16/40\n",
            "15000/15000 [==============================] - 1s 58us/sample - loss: 0.2606 - acc: 0.9107 - val_loss: 0.3182 - val_acc: 0.8746\n",
            "Epoch 17/40\n",
            "15000/15000 [==============================] - 1s 61us/sample - loss: 0.2462 - acc: 0.9159 - val_loss: 0.3110 - val_acc: 0.8782\n",
            "Epoch 18/40\n",
            "15000/15000 [==============================] - 1s 57us/sample - loss: 0.2336 - acc: 0.9194 - val_loss: 0.3048 - val_acc: 0.8789\n",
            "Epoch 19/40\n",
            "15000/15000 [==============================] - 1s 57us/sample - loss: 0.2223 - acc: 0.9225 - val_loss: 0.2997 - val_acc: 0.8807\n",
            "Epoch 20/40\n",
            "15000/15000 [==============================] - 1s 61us/sample - loss: 0.2120 - acc: 0.9265 - val_loss: 0.2963 - val_acc: 0.8832\n",
            "Epoch 21/40\n",
            "15000/15000 [==============================] - 1s 62us/sample - loss: 0.2017 - acc: 0.9315 - val_loss: 0.2934 - val_acc: 0.8828\n",
            "Epoch 22/40\n",
            "15000/15000 [==============================] - 1s 63us/sample - loss: 0.1930 - acc: 0.9343 - val_loss: 0.2905 - val_acc: 0.8842\n",
            "Epoch 23/40\n",
            "15000/15000 [==============================] - 1s 59us/sample - loss: 0.1842 - acc: 0.9393 - val_loss: 0.2895 - val_acc: 0.8833\n",
            "Epoch 24/40\n",
            "15000/15000 [==============================] - 1s 55us/sample - loss: 0.1767 - acc: 0.9417 - val_loss: 0.2881 - val_acc: 0.8850\n",
            "Epoch 25/40\n",
            "15000/15000 [==============================] - 1s 55us/sample - loss: 0.1689 - acc: 0.9457 - val_loss: 0.2864 - val_acc: 0.8856\n",
            "Epoch 26/40\n",
            "15000/15000 [==============================] - 1s 60us/sample - loss: 0.1620 - acc: 0.9481 - val_loss: 0.2871 - val_acc: 0.8850\n",
            "Epoch 27/40\n",
            "15000/15000 [==============================] - 1s 56us/sample - loss: 0.1554 - acc: 0.9503 - val_loss: 0.2865 - val_acc: 0.8859\n",
            "Epoch 28/40\n",
            "15000/15000 [==============================] - 1s 55us/sample - loss: 0.1491 - acc: 0.9537 - val_loss: 0.2872 - val_acc: 0.8852\n",
            "Epoch 29/40\n",
            "15000/15000 [==============================] - 1s 57us/sample - loss: 0.1437 - acc: 0.9566 - val_loss: 0.2886 - val_acc: 0.8844\n",
            "Epoch 30/40\n",
            "15000/15000 [==============================] - 1s 57us/sample - loss: 0.1380 - acc: 0.9581 - val_loss: 0.2881 - val_acc: 0.8868\n",
            "Epoch 31/40\n",
            "15000/15000 [==============================] - 1s 60us/sample - loss: 0.1321 - acc: 0.9612 - val_loss: 0.2891 - val_acc: 0.8869\n",
            "Epoch 32/40\n",
            "15000/15000 [==============================] - 1s 60us/sample - loss: 0.1269 - acc: 0.9635 - val_loss: 0.2905 - val_acc: 0.8862\n",
            "Epoch 33/40\n",
            "15000/15000 [==============================] - 1s 53us/sample - loss: 0.1218 - acc: 0.9653 - val_loss: 0.2928 - val_acc: 0.8861\n",
            "Epoch 34/40\n",
            "15000/15000 [==============================] - 1s 55us/sample - loss: 0.1173 - acc: 0.9669 - val_loss: 0.2950 - val_acc: 0.8874\n",
            "Epoch 35/40\n",
            "15000/15000 [==============================] - 1s 59us/sample - loss: 0.1132 - acc: 0.9676 - val_loss: 0.2970 - val_acc: 0.8852\n",
            "Epoch 36/40\n",
            "15000/15000 [==============================] - 1s 57us/sample - loss: 0.1086 - acc: 0.9697 - val_loss: 0.2991 - val_acc: 0.8852\n",
            "Epoch 37/40\n",
            "15000/15000 [==============================] - 1s 56us/sample - loss: 0.1043 - acc: 0.9717 - val_loss: 0.3019 - val_acc: 0.8855\n",
            "Epoch 38/40\n",
            "15000/15000 [==============================] - 1s 57us/sample - loss: 0.1003 - acc: 0.9737 - val_loss: 0.3054 - val_acc: 0.8841\n",
            "Epoch 39/40\n",
            "15000/15000 [==============================] - 1s 61us/sample - loss: 0.0971 - acc: 0.9741 - val_loss: 0.3092 - val_acc: 0.8848\n",
            "Epoch 40/40\n",
            "15000/15000 [==============================] - 1s 55us/sample - loss: 0.0930 - acc: 0.9765 - val_loss: 0.3118 - val_acc: 0.8837\n",
            "25000/25000 [==============================] - 1s 42us/sample - loss: 0.3340 - acc: 0.8694\n",
            "[0.3339951250600815, 0.86936]\n"
          ],
          "name": "stdout"
        }
      ]
    },
    {
      "cell_type": "code",
      "metadata": {
        "id": "7MGL9nH8Kt0t",
        "colab_type": "code",
        "outputId": "05fb2509-250f-4773-c014-0a652f119f74",
        "colab": {
          "base_uri": "https://localhost:8080/",
          "height": 122
        }
      },
      "source": [
        "test_review = test_data[0]\n",
        "predict = model.predict([test_review])\n",
        "print(\"Review: \")\n",
        "print(decode_Review(test_review))\n",
        "print(\"Prediciton: \"+ str(predict[0]))\n",
        "print(\"Actual: \"+ str(test_labels[0]))\n",
        "print(results)"
      ],
      "execution_count": 0,
      "outputs": [
        {
          "output_type": "stream",
          "text": [
            "Review: \n",
            "<START> coming take and film ? thriller ? ? <UNK> <UNK> ? ? dead ? ? look locals came either ? plot ? rich rich rich ? ? the into never will history zodiac most with ed and film this for addressed movie times care ? never and ending didn't ? those who ? for far of going <UNK> he on was zodiac she's take and ? thriller <PAD> <PAD> <PAD> <PAD> <PAD> <PAD> <PAD> <PAD> <PAD> <PAD> <PAD> <PAD> <PAD> <PAD> <PAD> <PAD> <PAD> <PAD> <PAD> <PAD> <PAD> <PAD> <PAD> <PAD> <PAD> <PAD> <PAD> <PAD> <PAD> <PAD> <PAD> <PAD> <PAD> <PAD> <PAD> <PAD> <PAD> <PAD> <PAD> <PAD> <PAD> <PAD> <PAD> <PAD> <PAD> <PAD> <PAD> <PAD> <PAD> <PAD> <PAD> <PAD> <PAD> <PAD> <PAD> <PAD> <PAD> <PAD> <PAD> <PAD> <PAD> <PAD> <PAD> <PAD> <PAD> <PAD> <PAD> <PAD> <PAD> <PAD> <PAD> <PAD> <PAD> <PAD> <PAD> <PAD> <PAD> <PAD> <PAD> <PAD> <PAD> <PAD> <PAD> <PAD> <PAD> <PAD> <PAD> <PAD> <PAD> <PAD> <PAD> <PAD> <PAD> <PAD> <PAD> <PAD> <PAD> <PAD> <PAD> <PAD> <PAD> <PAD> <PAD> <PAD> <PAD> <PAD> <PAD> <PAD> <PAD> <PAD> <PAD> <PAD> <PAD> <PAD> <PAD> <PAD> <PAD> <PAD> <PAD> <PAD> <PAD> <PAD> <PAD> <PAD> <PAD> <PAD> <PAD> <PAD> <PAD> <PAD> <PAD> <PAD> <PAD> <PAD> <PAD> <PAD> <PAD> <PAD> <PAD> <PAD> <PAD> <PAD> <PAD> <PAD> <PAD> <PAD> <PAD> <PAD> <PAD> <PAD> <PAD> <PAD> <PAD> <PAD> <PAD> <PAD> <PAD> <PAD> <PAD> <PAD> <PAD> <PAD> <PAD> <PAD> <PAD> <PAD> <PAD> <PAD> <PAD> <PAD> <PAD> <PAD> <PAD> <PAD> <PAD> <PAD> <PAD> <PAD> <PAD> <PAD> <PAD> <PAD>\n",
            "Prediciton: [0.]\n",
            "Actual: 0\n",
            "[0.3339951250600815, 0.86936]\n"
          ],
          "name": "stdout"
        }
      ]
    }
  ]
}
